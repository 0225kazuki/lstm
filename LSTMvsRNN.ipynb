{
 "cells": [
  {
   "cell_type": "markdown",
   "metadata": {},
   "source": [
    "# LSTM vs RNN"
   ]
  },
  {
   "cell_type": "code",
   "execution_count": 105,
   "metadata": {},
   "outputs": [],
   "source": [
    "import numpy as np\n",
    "import matplotlib.pyplot as plt\n",
    "%matplotlib inline\n",
    "N_train = 1200\n",
    "X_train = np.zeros((1200,1000))\n",
    "Y_train = np.zeros((1200))\n",
    "from numpy.random import choice\n",
    "one_indexes = choice(a=N_train, size=int(N_train / 2), replace=False)\n",
    "X_train[one_indexes, 0] = 1  # very long term memory.\n",
    "Y_train[one_indexes] = 1\n",
    "X_test = X_train[1000:]\n",
    "Y_test = Y_train[1000:]\n",
    "X_train = X_train[:1000]\n",
    "Y_train = Y_train[:1000]"
   ]
  },
  {
   "cell_type": "code",
   "execution_count": 106,
   "metadata": {
    "collapsed": true
   },
   "outputs": [],
   "source": [
    "def prepare_sequences(x_train, y_train, window_length):\n",
    "    windows = []\n",
    "    windows_y = []\n",
    "    for i, sequence in enumerate(x_train):\n",
    "        len_seq = len(sequence)\n",
    "        for window_start in range(0, len_seq - window_length + 1):\n",
    "            window_end = window_start + window_length\n",
    "            window = sequence[window_start:window_end]\n",
    "            windows.append(window)\n",
    "            windows_y.append(y_train[i])\n",
    "    return np.array(windows), np.array(windows_y)"
   ]
  },
  {
   "cell_type": "code",
   "execution_count": 107,
   "metadata": {},
   "outputs": [
    {
     "name": "stdout",
     "output_type": "stream",
     "text": [
      "(1000, 1000)\n",
      "(1000,)\n",
      "(991000, 10)\n",
      "(991000,)\n",
      "(198200, 10)\n",
      "(198200,)\n"
     ]
    }
   ],
   "source": [
    "print(X_train.shape)\n",
    "print(Y_train.shape)\n",
    "x_train, y_train = prepare_sequences(X_train, Y_train, 10)\n",
    "x_test, y_test = prepare_sequences(X_test, Y_test, 10)\n",
    "print(x_train.shape)\n",
    "print(y_train.shape)\n",
    "print(x_test.shape)\n",
    "print(y_test.shape)"
   ]
  },
  {
   "cell_type": "code",
   "execution_count": 108,
   "metadata": {},
   "outputs": [
    {
     "name": "stdout",
     "output_type": "stream",
     "text": [
      "0.0\n"
     ]
    }
   ],
   "source": [
    "print(np.min(y_test))"
   ]
  },
  {
   "cell_type": "code",
   "execution_count": 109,
   "metadata": {},
   "outputs": [
    {
     "name": "stdout",
     "output_type": "stream",
     "text": [
      "Building STATEFUL model...\n",
      "Train...\n",
      "accuracy training = 0.9757999777793884\n",
      "loss training = 0.06665236502885818\n",
      "___________________________________\n",
      "accuracy testing = 1.0\n",
      "loss testing = 0.0001175460492959246\n",
      "___________________________________\n"
     ]
    }
   ],
   "source": [
    "from keras.models import Sequential  \n",
    "from keras.layers.core import Dense, Activation  \n",
    "from keras.layers.recurrent import LSTM\n",
    "import keras\n",
    "\n",
    "max_len = x_train.shape[1]\n",
    "\n",
    "print('Building STATEFUL model...')\n",
    "model = Sequential()\n",
    "model.add(LSTM(10, batch_input_shape=(1, 1, 1), return_sequences=False, stateful=True))\n",
    "model.add(Dense(1, activation='sigmoid'))\n",
    "model.compile(loss='binary_crossentropy', optimizer='adam', metrics=['accuracy'])\n",
    "\n",
    "print('Train...')\n",
    "for epoch in range(1):\n",
    "    mean_tr_acc = []\n",
    "    mean_tr_loss = []\n",
    "    for i in range(len(X_train)):\n",
    "        y_true = Y_train[i]\n",
    "        for j in range(max_len):\n",
    "            tr_loss, tr_acc = model.train_on_batch(X_train[i][j].reshape(1,1,1),np.array([y_true]))\n",
    "            mean_tr_acc.append(tr_acc)\n",
    "            mean_tr_loss.append(tr_loss)\n",
    "        model.reset_states()\n",
    "\n",
    "    print('accuracy training = {}'.format(np.mean(mean_tr_acc)))\n",
    "    print('loss training = {}'.format(np.mean(mean_tr_loss)))\n",
    "    print('___________________________________')\n",
    "\n",
    "    mean_te_acc = []\n",
    "    mean_te_loss = []\n",
    "    for i in range(len(X_test)):\n",
    "        y_true = Y_test[i]\n",
    "        for j in range(max_len):\n",
    "            te_loss, te_acc = model.test_on_batch(X_test[i][j].reshape(1,1,1),np.array([y_true]))\n",
    "            mean_te_acc.append(te_acc)\n",
    "            mean_te_loss.append(te_loss)\n",
    "        model.reset_states()\n",
    "\n",
    "\n",
    "    print('accuracy testing = {}'.format(np.mean(mean_te_acc)))\n",
    "    print('loss testing = {}'.format(np.mean(mean_te_loss)))\n",
    "    print('___________________________________')"
   ]
  },
  {
   "cell_type": "code",
   "execution_count": 110,
   "metadata": {},
   "outputs": [
    {
     "name": "stdout",
     "output_type": "stream",
     "text": [
      "Building Simple RNN STATEFUL model...\n",
      "Train...\n",
      "accuracy training = 0.9886000156402588\n",
      "loss training = 0.032268792390823364\n",
      "___________________________________\n",
      "accuracy testing = 1.0\n",
      "loss testing = 9.590654372004792e-05\n",
      "___________________________________\n"
     ]
    }
   ],
   "source": [
    "from keras.layers.recurrent import SimpleRNN\n",
    "\n",
    "max_len = x_train.shape[1]\n",
    "\n",
    "print('Building Simple RNN STATEFUL model...')\n",
    "model = Sequential()\n",
    "model.add(SimpleRNN(10, batch_input_shape=(1, 1, 1), return_sequences=False, stateful=True))\n",
    "model.add(Dense(1, activation='sigmoid'))\n",
    "model.compile(loss='binary_crossentropy', optimizer='adam', metrics=['accuracy'])\n",
    "\n",
    "\n",
    "print('Train...')\n",
    "for epoch in range(1):\n",
    "    mean_tr_acc = []\n",
    "    mean_tr_loss = []\n",
    "    for i in range(len(X_train)):\n",
    "        y_true = Y_train[i]\n",
    "        for j in range(max_len):\n",
    "            tr_loss, tr_acc = model.train_on_batch(X_train[i][j].reshape(1,1,1),np.array([y_true]))\n",
    "            mean_tr_acc.append(tr_acc)\n",
    "            mean_tr_loss.append(tr_loss)\n",
    "        model.reset_states()\n",
    "\n",
    "    print('accuracy training = {}'.format(np.mean(mean_tr_acc)))\n",
    "    print('loss training = {}'.format(np.mean(mean_tr_loss)))\n",
    "    print('___________________________________')\n",
    "\n",
    "    mean_te_acc = []\n",
    "    mean_te_loss = []\n",
    "    for i in range(len(X_test)):\n",
    "        y_true = Y_test[i]\n",
    "        for j in range(max_len):\n",
    "            te_loss, te_acc = model.test_on_batch(X_test[i][j].reshape(1,1,1),np.array([y_true]))\n",
    "            mean_te_acc.append(te_acc)\n",
    "            mean_te_loss.append(te_loss)\n",
    "        model.reset_states()\n",
    "\n",
    "\n",
    "    print('accuracy testing = {}'.format(np.mean(mean_te_acc)))\n",
    "    print('loss testing = {}'.format(np.mean(mean_te_loss)))\n",
    "    print('___________________________________')"
   ]
  },
  {
   "cell_type": "code",
   "execution_count": null,
   "metadata": {
    "collapsed": true
   },
   "outputs": [],
   "source": []
  }
 ],
 "metadata": {
  "kernelspec": {
   "display_name": "Python 3",
   "language": "python",
   "name": "python3"
  },
  "language_info": {
   "codemirror_mode": {
    "name": "ipython",
    "version": 3
   },
   "file_extension": ".py",
   "mimetype": "text/x-python",
   "name": "python",
   "nbconvert_exporter": "python",
   "pygments_lexer": "ipython3",
   "version": "3.6.1"
  }
 },
 "nbformat": 4,
 "nbformat_minor": 2
}
